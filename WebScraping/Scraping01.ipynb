{
 "cells": [
  {
   "cell_type": "code",
   "execution_count": 1,
   "metadata": {
    "collapsed": true
   },
   "outputs": [],
   "source": [
    "import numpy as np\n",
    "import pandas as pd\n",
    "import requests\n",
    "import urllib2\n",
    "from lxml import html"
   ]
  },
  {
   "cell_type": "code",
   "execution_count": 2,
   "metadata": {
    "collapsed": false
   },
   "outputs": [],
   "source": [
    "urllib2.urlopen('https://www.google.com')\n",
    "page = requests.get('http://econpy.pythonanywhere.com/ex/001.html')\n",
    "tree = html.fromstring(page.content)\n",
    "#/html/body/div[1]\n",
    "buyers = tree.xpath('//div[@title=\"buyer-name\"]/text()')\n",
    "price = tree.xpath('//div[@title=\"buyer-name\"]/text()')\n"
   ]
  },
  {
   "cell_type": "code",
   "execution_count": 3,
   "metadata": {
    "collapsed": false
   },
   "outputs": [],
   "source": [
    "from bs4 import BeautifulSoup\n",
    "from urllib2 import urlopen\n",
    "\n",
    "BASE_URL = \"http://www.chicagoreader.com\"\n",
    "\n",
    "def get_category_links(section_url):\n",
    "    html = urlopen(section_url).read()\n",
    "    soup = BeautifulSoup(html, \"lxml\")\n",
    "    boccat = soup.find(\"dl\", \"boccat\")\n",
    "    category_links = [BASE_URL + dd.a[\"href\"] for dd in boccat.findAll(\"dd\")]\n",
    "    return category_links"
   ]
  },
  {
   "cell_type": "code",
   "execution_count": 4,
   "metadata": {
    "collapsed": false
   },
   "outputs": [],
   "source": [
    "#get_category_links(\"http://www.chicagoreader.com/chicago/best-of-chicago-2011-food-drink/BestOf?oid=4106228\")"
   ]
  },
  {
   "cell_type": "code",
   "execution_count": 5,
   "metadata": {
    "collapsed": false
   },
   "outputs": [],
   "source": [
    "page = requests.get('http://www.yelp.com/biz/whiskey-tavern-new-york')\n",
    "tree = html.fromstring(page.content)"
   ]
  },
  {
   "cell_type": "code",
   "execution_count": 49,
   "metadata": {
    "collapsed": false,
    "scrolled": true
   },
   "outputs": [],
   "source": [
    "#page = requests.get('http://www.yelp.com/biz/whiskey-tavern-new-york')\n",
    "#tree = html.fromstring(page.content)\n",
    "#/html/body/div[1]\n",
    "#reviews = tree.path('//*[@id=\"super-container\"]/div/div/div[1]/div[3]/div[1]/div[2]/ul/li[2]/div/div[2]/div[1]/p')\n",
    "ur = 'http://www.yelp.com/biz/whiskey-tavern-new-york'\n",
    "html = urllib2.urlopen(ur).read()\n",
    "soup = BeautifulSoup(html)\n",
    " \n",
    "title = soup.find('h1',itemprop=\"name\")\n",
    "saddress = soup.find('span',itemprop=\"streetAddress\")\n",
    "postalcode = soup.find('span',itemprop=\"postalCode\")\n",
    "reviews = soup.findAll('p',itemprop='description')\n",
    "dates = soup.findAll('meta',itemprop='datePublished')\n",
    "import bleach\n",
    "clean = bleach.clean(reviews, tags=[], strip=True)\n",
    "#print clean # Should print: \"Bad Ugly Evil()\"\n",
    "#//*[@id=\"super-container\"]/div/div/div[1]/div[3]/div[1]/div[2]/ul/li[5]/div/div[2]/div[1]/p"
   ]
  },
  {
   "cell_type": "code",
   "execution_count": 20,
   "metadata": {
    "collapsed": false
   },
   "outputs": [],
   "source": [
    "x = '2015'\n",
    "y = str(dates[1])"
   ]
  },
  {
   "cell_type": "code",
   "execution_count": 51,
   "metadata": {
    "collapsed": false
   },
   "outputs": [
    {
     "data": {
      "text/plain": [
       "<p itemprop=\"description\" lang=\"en\">I stumbled upon this place during a photography outing. The bar had no problems accommodating my group of 16, even though one of their tables had already been reserved. It was still early on a Saturday, but by the time I left it was starting to get busier.<br/><br/>A surprise find in Chinatown, the atmosphere is very sports-pub, relaxed, and I could see myself frequenting this place after work, if I worked in the neighborhood. The crowd was low key and not as obnoxious as I would have expected from sports pub/ whiskey spot. They had a game up on the big screen, and loud music for anyone not interested in the game. The music was a mixture of 90's hip hop and alternative to current pop. Add in a board games shelf (Jenga!) and photo booth, and you have a recipe for a fun drunken night out with friends.<br/><br/>The drinks and food were reasonably priced and the quality was decent. I really liked the tots, or I was really hungry. The waitress was very friendly and brought everything out fairly quickly.<br/><br/>They have a back yard that I'd love to check out when it gets warmer. Now that I see they are known for their spicy pickle backs, I'll have to go back and try one.</p>"
      ]
     },
     "execution_count": 51,
     "metadata": {},
     "output_type": "execute_result"
    }
   ],
   "source": [
    "reviews[1]"
   ]
  },
  {
   "cell_type": "code",
   "execution_count": 48,
   "metadata": {
    "collapsed": false
   },
   "outputs": [],
   "source": [
    "dates\n",
    "d = map(str, dates)\n",
    "for i in d:\n",
    "    if '2013' in i:\n",
    "        \n",
    "        "
   ]
  },
  {
   "cell_type": "code",
   "execution_count": 31,
   "metadata": {
    "collapsed": false,
    "scrolled": false
   },
   "outputs": [
    {
     "ename": "TypeError",
     "evalue": "'NoneType' object is not callable",
     "output_type": "error",
     "traceback": [
      "\u001b[1;31m---------------------------------------------------------------------------\u001b[0m",
      "\u001b[1;31mTypeError\u001b[0m                                 Traceback (most recent call last)",
      "\u001b[1;32m<ipython-input-31-c6a45b49397b>\u001b[0m in \u001b[0;36m<module>\u001b[1;34m()\u001b[0m\n\u001b[0;32m      1\u001b[0m \u001b[1;31m#[str(i) for i in reviews]\u001b[0m\u001b[1;33m\u001b[0m\u001b[1;33m\u001b[0m\u001b[0m\n\u001b[0;32m      2\u001b[0m \u001b[1;32mfor\u001b[0m \u001b[0mi\u001b[0m \u001b[1;32min\u001b[0m \u001b[0mreviews\u001b[0m\u001b[1;33m:\u001b[0m\u001b[1;33m\u001b[0m\u001b[0m\n\u001b[1;32m----> 3\u001b[1;33m     \u001b[0mi\u001b[0m\u001b[1;33m.\u001b[0m\u001b[0mstrip\u001b[0m\u001b[1;33m(\u001b[0m\u001b[1;34m'<p itemprop=\"description\" lang=\"en\">'\u001b[0m\u001b[1;33m)\u001b[0m\u001b[1;33m\u001b[0m\u001b[0m\n\u001b[0m",
      "\u001b[1;31mTypeError\u001b[0m: 'NoneType' object is not callable"
     ]
    }
   ],
   "source": [
    "#[str(i) for i in reviews]\n",
    "for i in reviews:\n",
    "    i.strip('<p itemprop=\"description\" lang=\"en\">')"
   ]
  },
  {
   "cell_type": "code",
   "execution_count": 35,
   "metadata": {
    "collapsed": false
   },
   "outputs": [
    {
     "data": {
      "text/plain": [
       "str"
      ]
     },
     "execution_count": 35,
     "metadata": {},
     "output_type": "execute_result"
    }
   ],
   "source": []
  },
  {
   "cell_type": "code",
   "execution_count": 42,
   "metadata": {
    "collapsed": false
   },
   "outputs": [],
   "source": [
    "r = map(str, reviews)\n",
    "for i in range(len(r)):\n",
    "    r[i] =r[i].strip('<p itemprop=\"description\" lang=\"en\">')\n",
    "    r[i]=r[i].strip('</p>')"
   ]
  },
  {
   "cell_type": "code",
   "execution_count": 43,
   "metadata": {
    "collapsed": false
   },
   "outputs": [
    {
     "data": {
      "text/plain": [
       "[\"I freaking LOVE this place.<br/><br/>Long day at work? Whiskey Tavern.<br/>Need a good place to day drink? Whiskey Tavern.<br/>Where to bring a good friend/casual date (on weekday)? Whiskey Tavern.<br/>Want to pregame in a cram packed bar (on weekend)? Whiskey Tavern.<br/>Want to sing to early 2000s-2010s songs? Whiskey Tavern.<br/><br/>I discovered this place with my friend back in October and ever since had to get one of their UFO pumpkin beers every week (pumpkin beer with a cinnamon rim). There is a special going on every night, but my favorite has to be Taco Tuesday where it's $7 for 3 tacos. Did I mention they have flaming BBCs when you order a pickle-back? Yeah, that might shock you the first time you go, but you'll get use to it real soon, haha. That's how I know I've become desensitized to the tavern...when you bring your friends for the first time and they start freaking out over a flaming big black cock and you think it's normal!<br/><br/>This place get PACKED on the weekends starting around 10pm, so I suggest going on a weekday when it's more relaxed and just enjoy the atmosphere that is the Whiskey Tavern.\",\n",
       " \"I stumbled upon this place during a photography outing. The bar had no problems accommodating my group of 16, even though one of their tables had already been reserved. It was still early on a Saturday, but by the time I left it was starting to get busier.<br/><br/>A surprise find in Chinatown, the atmosphere is very sports-pub, relaxed, and I could see myself frequenting this place after work, if I worked in the neighborhood. The crowd was low key and not as obnoxious as I would have expected from sports pub/ whiskey spot. They had a game up on the big screen, and loud music for anyone not interested in the game. The music was a mixture of 90's hip hop and alternative to current pop. Add in a board games shelf (Jenga!) and photo booth, and you have a recipe for a fun drunken night out with friends.<br/><br/>The drinks and food were reasonably priced and the quality was decent. I really liked the tots, or I was really hungry. The waitress was very friendly and brought everything out fairly quickly.<br/><br/>They have a back yard that I'd love to check out when it gets warmer. Now that I see they are known for their spicy pickle backs, I'll have to go back and try one.\",\n",
       " \"Full disclosure: I'm not a bar sort of girl. Or a pub, as the Whiskey Tavern is classified.<br/><br/>But if you're with close friends, are in a good mood and want to stay that way, and are emotionally prepared to have drinks and other unidentified liquids spilled on you, this is the place.<br/><br/>If you had a bad day at work and are one to ruminate, plus you're with a group that has someone who's an absolute downer and just stood there the entire time, it's probably going to be a shitty visit. <br/><br/>Drinks were solid, bathroom was a little cramped but clean, and people are drunkenly polite. It's super crowded on the inside, so be prepared and don't bring your bag from work (nor dress like you just finished your day at the Bloomberg terminal, like I did [bad idea]). It also doesn't seem like it would have a lot of room for grub, although the reviews seem to have lots of people trying out the food (??). <br/><br/>One thing I noticed was that the crowd skewed a tad older - like, late twenties, early thirties which, in itself, is not a bad thing at all. However, if you're trying to cling to your youth like I am, it was a rude awakening to hear Taylor Swift (not my cup of tea, fyi) mixed with NWA. However, it's still pretty fun...but again, my time was rough because I wasn't emotionally prepared nor dressed appropriately.\",\n",
       " \"Last Irish bar in Chinatown! Surrounded by Chinese and Vietnamese restaurants and mani pedi, this bar is really cool. Irish/American atmosphere with pop music, nice crowd, and a great selection of beers, whiskers, and bites. Fairly cheap, there are specials almost every week and weekend, like taco Tuesdays, Wednesday sliders, etc.<br/>I came here with four friends few evenings ago, and we had a blast. It's 5 minutes walk from city hall and 5 minutes from Canal Street. Perfect spot for afterwork drinks.\",\n",
       " \"Finally made it here after much urging by friends! On this particular Friday night, there were 3 different birthday parties going on. While this made for a popping party, it also created a lot of noise and made the place feel like it was best for large groups. Indeed, when we looked around, it seemed like most people were with at least 3-4 friends if not larger. I ordered the Baxter St. Lemonade-it was delicious and STRONG. I was really surprised at how far just that one drink got me. <br/><br/>It was definitely crowded, but we had no problem getting in and there was definitely space to stand around. I was a fan of the music they played-slightly older pop songs but great choices that really got the beat going. <br/><br/>When I come back, I will definitely bring a bigger group of friends (was just with one other person tonight). Seems like this place is great for celebrations and late night drinking. Come here to low-key party and drink, but don't expect to be able to hold intimate conversations as it is quite loud! Probably most fun after you are already slightly tipsy. :)\",\n",
       " \"We came upon this spot by chance and stopped in for a beverage. Everybody there was truly decent and I loved the environment. The drinks were great and affordable and they played incredible music! It's an unquestionable requirement do next time we visit the city.\",\n",
       " 'Super chill spot to hang out with friends and just catch up. Also best tater tots ever!!!! Super crispy and delicious. <br/><br/>Not good, are the wings and fries. Will be trying out the tacos soon and other bar foods.',\n",
       " 'Wiskey Tavern did themselves a favor by hiring THIS GUY!!! Handling a HUGE crowd by himself while making every customer feel important. Pretty damn impressive! Thanks Rob for making my anniversary one to remember :)...orrrr not. Just found out he owns it! Go figure. Welp....good life decision! ;)',\n",
       " 'Really liked their hospitality and the cocktails! Welcome relief from the way \"Tiny\\'s &amp; the bar upstairs\" treated us! <br/><br/>Despite being packed, they seated us at a reserved table with the sole request that we let the table go 10 mins before the folks who reserved it got there. And we stuck to our word! <br/><br/>The jalape\\xc3\\xb1o poppers were nice, and the fried pickles were unique, though I can\\'t say I took a fancy to them. They play loud music, and we were very close to the speakers, so I attribute my sore throat this morning to this place (in the nicest way possible)! :) You see, we were all meeting after a long time, and had catching up to do! <br/><br/>Small place, young vibe, and welcoming! Thanks guys, we\\'ll see you again soon!',\n",
       " \"This is the place. <br/><br/>Went here for my first time on Sunday and it most definitely will not be my last time. Great service-bartenders/servers do everything in their hands to make sure you are having a great time. Menu was good, food was good, atmosphere was good. Bathrooms aren't ideal but they were clean so that counts for something. Overall had a great time. This is a place you go to if you want to have fun.\",\n",
       " \"A previous reviewer already wrote a similar review to the one that I was planning, but I'll just echo it in support for this established. Wow. This. Place. Was. Awesome.<br/><br/>I went here after going to Apotheke. My friend and I wanted to find a second bar to go to in Chinatown, and given that we were both Chinatown newbies, I went to Yelp for a short invesitgation. This place had rave reviews, so off we went.<br/><br/>I have to say, this place was probably the antithesis of Apotheke, but they were both incredible in their own way. I think it's important to say that prior to coming to Whiskey Tavern, I had only recently discovered pickle backs. The night before, I saw a couple people doing them at a different bar, and inquired as to what type of shots they were doing. After they explained, I tried one - and loved it. So what a coincidence then, that my search on Yelp revealed that this place is FAMOUS for not only pickle backs, but their SPICY backs. And oh my god, for something so simple, they are just so great. <br/><br/>This place was packed to the brim which I'd usually hate, but at a place like this, that's how it should be. My friend and I wiggled out way up to the front, at which point I asked her if she'd heard of pickle backs. Her reply was no, however she said that she had a weird love of pickle juice, so she was completely game. We ordered two spicy backs, and they were heavenly. I'm not sure how many we ordered, but at one point the bartender did one with us too. It was wild but not too wild. Everything about this place is awesome.\",\n",
       " 'Great \\xc2\\xa0little bar in Chinatown . I came here for my cousins birthday get together . The bar tenders are very nice . Nice spot when you are in this area.',\n",
       " 'This bar made our entire trip. We had been to NY once before and did all the touristy things you have to do the first time you go, but we wanted to get a different experience this time. We were staying in Chinatown and read reviews for this bar so we decided to stop in. As soon as we walked in it was pretty crowded and even though all the bartenders were busy they stopped to say hello and introduce themselves. What!!!!!! Can that be? Nice people in NY? Oh yes my friends, we found some. After awhile we were able to snag seats at the bar where there bartender proceeded to have a genuine conversation with us about our trip and what we had liked about it so far. It was awesome! We ordered their famous pickle-backs and got a surprise flaming penis to go with it. I will absolutely be making my way to Chinatown again.',\n",
       " \"If you suck, don't go here. \\xc2\\xa0The place is a gem. \\xc2\\xa0It's one of a kind in the best way possible. \\xc2\\xa0What other sports bar neighbor dim sum joints, pours awesome bloodies, serves more than one dish with cheese whiz, has a bar staff that almost immediately become your hot new best friends, has a good soundtrack and isn't overrun with douche bags? \\xc2\\xa0Yup, one of o' kind.\",\n",
       " \"Wow, i did not expect to have so much fun in here.<br/>It's part of china town, small store front.<br/>But the music is good and the atmosphere was very nice. Everyone seem so happy and chill.<br/>You can get games from the shelf and play games for hours while drinking beer and talking with your friends. The bartenders are also very happy and friendly.<br/>There's also food you can order as well. <br/>I don't drink but the menu has alot of good deals and it is in a very reasonable price.<br/>Would definitely love to go again.\",\n",
       " 'A mystical find in the depths of Chinatown. My boyfriend and I arrived at 2am and it was jam packed. <br/><br/>The crowd was diverse and everyone including the staff was friendly. Drinks were relatively cheap and the atmosphere was very lively. I loved their choice of old school 90s songs and the pickle-backs are now one of my favorites! \\xc2\\xa0Thank you, Whiskey Tavern!',\n",
       " \"It was the perfect place to grab a drink after picking up our marriage license at the city clerk. Unpretentious, but with an amazing whiskey selection. To celebrate our marriage, though, we opted for whiskey in a can - which is actually really tasty!<br/><br/>Meg, our server, was really friendly and attentive. Because we came in our wedding clothes, she surprised us with some shots of cinnamon whiskey and a little Hostess chocolate cake while the bar played the wedding song. We felt really special.<br/><br/>If we weren't dressed so fancy, we would have ordered some food. I guess we'll just have to come back on a more casual occasion!\",\n",
       " \"Great staff, atmosphere and specials. \\xc2\\xa0 <br/><br/>Cold beer, pickle backs. \\xc2\\xa0 Bowl of bacon, tater tots, best fried pickles I've ever had.<br/><br/>Heaven on earth in Chinatown. \\xc2\\xa0Love this place.... \\xc2\\xa0Bail bondsman conveniently located next door.\",\n",
       " \"Not sure what the big fuss is about this place. The music is deafening and the post work depressed alcoholic young lawyer crowd is unbearably rowdy. The space is small so you'll have to squeeze into a sawdust filled corner to avoid the elbows haphazardly thrown during conversations that are needlessly animated. There are storage compartments under the booths which is great until annoying patrons come by every two minutes asking if they can store/retrieve/rummage through their purse, requiring that you stop your merrymaking and stand up in a tiny booth with your knees bent and weight shifted in an awkward position. I came here with a friend and had one drink. We left immediately afterwards because really, who can stand for that nonsense. <br/><br/>I will say that our waitress did a good job and was quick with the drinks and very friendly. If I'm in the neighborhood again, I may try to come here when it's less busy. Until then, 3 stars for the service and the prices.\",\n",
       " \"This place is everything a bar should be! \\xc2\\xa0We stopped in after roaming around Chinatown all day. \\xc2\\xa0The bartender / owner, Rob, has his collective s(~)it together behind the bar. \\xc2\\xa0His drinks are strong, and his personality is second to none. \\xc2\\xa0When we sat at the bar, he introduced himself and struck up conversation immediately. \\xc2\\xa0It wasn't the obligatory type conversation. \\xc2\\xa0He seemed genuinely interested. \\xc2\\xa0When he found out it was our anniversary weekend, there was promptly a banner hung over the bar, fireworks flaming ON the bar, and pickle backs on the house! \\xc2\\xa0He had tons of suggestions for other places for us to visit, but by that point, we didn't want to leave. \\xc2\\xa0We wound up grabbing some grub and getting cross-eyed drunk. \\xc2\\xa0Fantastic place, all around. \\xc2\\xa0We'll be back next time we swing into town!\"]"
      ]
     },
     "execution_count": 43,
     "metadata": {},
     "output_type": "execute_result"
    }
   ],
   "source": [
    "r"
   ]
  },
  {
   "cell_type": "code",
   "execution_count": null,
   "metadata": {
    "collapsed": true
   },
   "outputs": [],
   "source": []
  }
 ],
 "metadata": {
  "kernelspec": {
   "display_name": "Python 2",
   "language": "python",
   "name": "python2"
  },
  "language_info": {
   "codemirror_mode": {
    "name": "ipython",
    "version": 2
   },
   "file_extension": ".py",
   "mimetype": "text/x-python",
   "name": "python",
   "nbconvert_exporter": "python",
   "pygments_lexer": "ipython2",
   "version": "2.7.10"
  }
 },
 "nbformat": 4,
 "nbformat_minor": 0
}
