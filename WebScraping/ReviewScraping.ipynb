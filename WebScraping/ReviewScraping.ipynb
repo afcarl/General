{
 "cells": [
  {
   "cell_type": "code",
   "execution_count": 2,
   "metadata": {
    "collapsed": false
   },
   "outputs": [],
   "source": [
    "import pandas as pd\n",
    "import numpy as np\n",
    "import json\n",
    "import rauth \n",
    "import time\n",
    "import requests\n",
    "import urllib2\n",
    "from lxml import html\n",
    "from bs4 import BeautifulSoup\n",
    "from urllib2 import urlopen\n",
    "#import bleach\n",
    "import csv"
   ]
  },
  {
   "cell_type": "code",
   "execution_count": 4,
   "metadata": {
    "collapsed": false
   },
   "outputs": [],
   "source": [
    "df = pd.read_csv('inspections_clean.csv')\n",
    "urls=[]\n",
    "for i in df['url']:\n",
    "    urls.append(i)"
   ]
  },
  {
   "cell_type": "code",
   "execution_count": 5,
   "metadata": {
    "collapsed": false
   },
   "outputs": [],
   "source": [
    "def scraping(url):\n",
    "    #global pg \n",
    "    \n",
    "    rev =[]\n",
    "    #url = 'http://www.yelp.com/biz/whiskey-tavern-new-york'\n",
    "    html = urllib2.urlopen(url).read()\n",
    "    soup = BeautifulSoup(html,'lxml')\n",
    "    #r = soup.find('meta',itemprop='content')\n",
    "    reviews = soup.findAll('p',itemprop='description')\n",
    "    dates = soup.findAll('meta',itemprop='datePublished')\n",
    "    d = map(str,dates)\n",
    "    \n",
    "    for i in range(len(dates)):\n",
    "        if str('2013') in d[i]:\n",
    "            rev.append(str(reviews[i]))\n",
    "                #return reviews\n",
    "            \n",
    "        \n",
    "    return rev "
   ]
  },
  {
   "cell_type": "code",
   "execution_count": 6,
   "metadata": {
    "collapsed": false
   },
   "outputs": [],
   "source": [
    "pg=20\n",
    "k = 0\n",
    "#clean = []\n",
    "for url in urls[10:12] : \n",
    "#while k!=1:\n",
    "    #url = 'http://m.yelp.com/biz/b-and-m-hot-bagels-and-grocery-staten-island'\n",
    "    try:\n",
    "        reviews = []\n",
    "        clean = []\n",
    "        for i in range(3):\n",
    "\n",
    "\n",
    "            reviews[i] = scraping(url+'?start='+str(pg*i))\n",
    "\n",
    "            clean = bleach.clean(reviews, tags=[], strip=True)\n",
    "            \n",
    "            print clean\n",
    "    except:\n",
    "        pass\n",
    "    \n",
    "#     with open('reviews.csv', 'a') as csvfile:\n",
    "#                 fieldnames = ['url','reviews']\n",
    "#                 writer = csv.DictWriter(csvfile, fieldnames=fieldnames)\n",
    "\n",
    "#                 writer.writeheader()\n",
    "#                 writer.writerow(clean)\n",
    "    #k = k+1     "
   ]
  },
  {
   "cell_type": "code",
   "execution_count": 7,
   "metadata": {
    "collapsed": false
   },
   "outputs": [
    {
     "name": "stdout",
     "output_type": "stream",
     "text": [
      "https://www.yelp.com/biz/morris-pk-bake-shop-bronx\n"
     ]
    }
   ],
   "source": [
    "for url in urls[:1]:\n",
    "    print url"
   ]
  },
  {
   "cell_type": "code",
   "execution_count": 14,
   "metadata": {
    "collapsed": false
   },
   "outputs": [
    {
     "data": {
      "text/plain": [
       "[]"
      ]
     },
     "execution_count": 14,
     "metadata": {},
     "output_type": "execute_result"
    }
   ],
   "source": [
    "reviews"
   ]
  },
  {
   "cell_type": "code",
   "execution_count": null,
   "metadata": {
    "collapsed": true
   },
   "outputs": [],
   "source": []
  }
 ],
 "metadata": {
  "kernelspec": {
   "display_name": "Python 2",
   "language": "python",
   "name": "python2"
  },
  "language_info": {
   "codemirror_mode": {
    "name": "ipython",
    "version": 2
   },
   "file_extension": ".py",
   "mimetype": "text/x-python",
   "name": "python",
   "nbconvert_exporter": "python",
   "pygments_lexer": "ipython2",
   "version": "2.7.11"
  }
 },
 "nbformat": 4,
 "nbformat_minor": 0
}
