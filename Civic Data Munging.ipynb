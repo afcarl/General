{
 "cells": [
  {
   "cell_type": "code",
   "execution_count": 71,
   "metadata": {
    "collapsed": false
   },
   "outputs": [
    {
     "name": "stdout",
     "output_type": "stream",
     "text": [
      "Populating the interactive namespace from numpy and matplotlib\n"
     ]
    }
   ],
   "source": [
    "import numpy as np\n",
    "import pandas as pd\n",
    "import pylab as pl\n",
    "%pylab inline"
   ]
  },
  {
   "cell_type": "code",
   "execution_count": 72,
   "metadata": {
    "collapsed": true
   },
   "outputs": [],
   "source": [
    "data = pd.read_csv('data.csv')\n",
    "data1_ng = pd.read_csv('data1_ng.csv')\n",
    "d2 = pd.read_csv('data2.csv')"
   ]
  },
  {
   "cell_type": "code",
   "execution_count": 75,
   "metadata": {
    "collapsed": false,
    "scrolled": false
   },
   "outputs": [
    {
     "data": {
      "text/plain": [
       "Index([u'Borough, Block and Lot #', u'Facility Address',\n",
       "       u'Natural Gas Utility (Con Edison or National Grid',\n",
       "       u'Building Manager', u'Owner', u'Owner Address',\n",
       "       u'DEP Boiler Application #',\n",
       "       u'Deadline for phasing out #6 oil (i.e. data of next DEP permit renewal after July 1 2012)',\n",
       "       u'Boiler Model', u'Number of identical boilers',\n",
       "       u'Boiler capacity (Gross BTU)', u'Boiler Installation Date',\n",
       "       u'Estimated retirement date of boiler (assuming 35 year average useful life)',\n",
       "       u'Is boiler dual fuel capable?', u'Age range of boiler',\n",
       "       u'Burner Model', u'Primary Fuel',\n",
       "       u'Total Estimated Cosumption - High Estimate (Gallons) ',\n",
       "       u'Total Estimated Cosumption - Low Estimate (Gallons) ',\n",
       "       u'Total Estimated Cosumption - High Estimate (MMBTUs) ',\n",
       "       u'Total Estimated Cosumption - Low Estimate  (MMBTUs) ',\n",
       "       u'Needs to comply with Greener Greater Buildings Laws?',\n",
       "       u'Deadline for complying with Audit and Retrocommissioning Law',\n",
       "       u'Building Type', u'City Council District',\n",
       "       u'Total area of buildings on lot',\n",
       "       u'Number of buildings on property (tax lot)', u'Number of floors',\n",
       "       u'Number of residential units', u'Number of total units',\n",
       "       u'Year constructed', u'Condominium housing?', u'Cooperative housing?'],\n",
       "      dtype='object')"
      ]
     },
     "execution_count": 75,
     "metadata": {},
     "output_type": "execute_result"
    }
   ],
   "source": [
    "data.columns"
   ]
  },
  {
   "cell_type": "code",
   "execution_count": 80,
   "metadata": {
    "collapsed": false
   },
   "outputs": [],
   "source": [
    "df = data[data['Total area of buildings on lot']>=460000]"
   ]
  },
  {
   "cell_type": "code",
   "execution_count": 81,
   "metadata": {
    "collapsed": false
   },
   "outputs": [
    {
     "data": {
      "text/plain": [
       "220"
      ]
     },
     "execution_count": 81,
     "metadata": {},
     "output_type": "execute_result"
    }
   ],
   "source": [
    "len(df)"
   ]
  },
  {
   "cell_type": "code",
   "execution_count": 82,
   "metadata": {
    "collapsed": false
   },
   "outputs": [
    {
     "name": "stdout",
     "output_type": "stream",
     "text": [
      "total area 819492.681818\n"
     ]
    }
   ],
   "source": [
    "area = np.mean(df['Total area of buildings on lot'])\n",
    "print 'total area',area"
   ]
  },
  {
   "cell_type": "code",
   "execution_count": 83,
   "metadata": {
    "collapsed": false
   },
   "outputs": [
    {
     "name": "stdout",
     "output_type": "stream",
     "text": [
      "low_est 19319.4772727\n"
     ]
    }
   ],
   "source": [
    "low_est = np.mean(df['Total Estimated Cosumption - Low Estimate  (MMBTUs) '])\n",
    "print 'low_est',low_est"
   ]
  },
  {
   "cell_type": "code",
   "execution_count": 84,
   "metadata": {
    "collapsed": false
   },
   "outputs": [
    {
     "name": "stdout",
     "output_type": "stream",
     "text": [
      "high_est 27599.2681818\n"
     ]
    }
   ],
   "source": [
    "high_est = np.mean(df['Total Estimated Cosumption - High Estimate (MMBTUs) '])\n",
    "print 'high_est',high_est"
   ]
  },
  {
   "cell_type": "code",
   "execution_count": 56,
   "metadata": {
    "collapsed": false
   },
   "outputs": [
    {
     "name": "stdout",
     "output_type": "stream",
     "text": [
      "Index([u'Zip Code', u'Building type (service class', u' Consumption (therms) ',\n",
      "       u' Consumption (GJ) ', u'Utility/Data Source'],\n",
      "      dtype='object')\n"
     ]
    }
   ],
   "source": [
    "print data1_ng.columns\n",
    "l = len(data1_ng)\n",
    "l1 = len(d2)"
   ]
  },
  {
   "cell_type": "code",
   "execution_count": 47,
   "metadata": {
    "collapsed": false
   },
   "outputs": [
    {
     "name": "stdout",
     "output_type": "stream",
     "text": [
      "586\n",
      "587\n",
      "588\n",
      "589\n",
      "590\n"
     ]
    }
   ],
   "source": [
    "for i  in range(l):\n",
    "    if (data1_ng['Zip Code'][i][:5]) == '11201':\n",
    "        print i"
   ]
  },
  {
   "cell_type": "code",
   "execution_count": 52,
   "metadata": {
    "collapsed": false
   },
   "outputs": [
    {
     "name": "stdout",
     "output_type": "stream",
     "text": [
      "                                           Zip Code  \\\n",
      "586  11201\\n(40.69467825879468, -73.98992086835335)   \n",
      "587  11201\\n(40.69467825879468, -73.98992086835335)   \n",
      "588  11201\\n(40.69467825879468, -73.98992086835335)   \n",
      "589  11201\\n(40.69467825879468, -73.98992086835335)   \n",
      "\n",
      "    Building type (service class   Consumption (therms)    Consumption (GJ)   \\\n",
      "586                   Commercial                13571483             1431867   \n",
      "587                   Industrial                 3887016              410102   \n",
      "588                Institutional                 4499131              474684   \n",
      "589            Large residential                18973029             2001761   \n",
      "\n",
      "    Utility/Data Source  \n",
      "586       National Grid  \n",
      "587       National Grid  \n",
      "588       National Grid  \n",
      "589       National Grid  \n"
     ]
    }
   ],
   "source": [
    "sub = data1_ng[586:590]\n",
    "print sub"
   ]
  },
  {
   "cell_type": "code",
   "execution_count": 53,
   "metadata": {
    "collapsed": false
   },
   "outputs": [
    {
     "data": {
      "text/plain": [
       "4318414.0"
      ]
     },
     "execution_count": 53,
     "metadata": {},
     "output_type": "execute_result"
    }
   ],
   "source": [
    "np.sum(sub[' Consumption (GJ) '])"
   ]
  },
  {
   "cell_type": "code",
   "execution_count": 59,
   "metadata": {
    "collapsed": false
   },
   "outputs": [],
   "source": [
    "for i  in range(l1):\n",
    "    if (d2['ZIP'][i][:5]) == '11201':\n",
    "        print i"
   ]
  },
  {
   "cell_type": "code",
   "execution_count": 70,
   "metadata": {
    "collapsed": false
   },
   "outputs": [
    {
     "data": {
      "text/plain": [
       "0       10001\\n(40.75025902143676, -73.99688630375988)\n",
       "1       10001\\n(40.75025902143676, -73.99688630375988)\n",
       "2       10001\\n(40.75025902143676, -73.99688630375988)\n",
       "3       10001\\n(40.75025902143676, -73.99688630375988)\n",
       "4       10002\\n(40.71612146793143, -73.98583147024613)\n",
       "5       10002\\n(40.71612146793143, -73.98583147024613)\n",
       "6       10002\\n(40.71612146793143, -73.98583147024613)\n",
       "7       10003\\n(40.73194394755518, -73.98887214913032)\n",
       "8       10003\\n(40.73194394755518, -73.98887214913032)\n",
       "9       10003\\n(40.73194394755518, -73.98887214913032)\n",
       "10      10003\\n(40.73194394755518, -73.98887214913032)\n",
       "11     10004\\n(40.688827825343935, -74.01911250583743)\n",
       "12     10004\\n(40.688827825343935, -74.01911250583743)\n",
       "13     10004\\n(40.688827825343935, -74.01911250583743)\n",
       "14     10004\\n(40.688827825343935, -74.01911250583743)\n",
       "15       10005\\n(40.7061257920717, -74.00858468583453)\n",
       "16       10005\\n(40.7061257920717, -74.00858468583453)\n",
       "17       10005\\n(40.7061257920717, -74.00858468583453)\n",
       "18      10006\\n(40.70825614030866, -74.01355356964149)\n",
       "19      10006\\n(40.70825614030866, -74.01355356964149)\n",
       "20      10006\\n(40.70825614030866, -74.01355356964149)\n",
       "21      10007\\n(40.71363051943297, -74.00913138370635)\n",
       "22      10007\\n(40.71363051943297, -74.00913138370635)\n",
       "23      10007\\n(40.71363051943297, -74.00913138370635)\n",
       "24      10009\\n(40.72664935898081, -73.97911148500697)\n",
       "25      10009\\n(40.72664935898081, -73.97911148500697)\n",
       "26      10009\\n(40.72664935898081, -73.97911148500697)\n",
       "27      10009\\n(40.72664935898081, -73.97911148500697)\n",
       "28      10010\\n(40.73914078212147, -73.98289845639863)\n",
       "29      10010\\n(40.73914078212147, -73.98289845639863)\n",
       "                            ...                       \n",
       "72     10023\\n(40.774536138232236, -73.97994335610099)\n",
       "73     10023\\n(40.774536138232236, -73.97994335610099)\n",
       "74     10023\\n(40.774536138232236, -73.97994335610099)\n",
       "75      10024\\n(40.78362556816552, -73.96653900057436)\n",
       "76      10024\\n(40.78362556816552, -73.96653900057436)\n",
       "77      10024\\n(40.78362556816552, -73.96653900057436)\n",
       "78      10025\\n(40.79685012763133, -73.96372581059762)\n",
       "79      10025\\n(40.79685012763133, -73.96372581059762)\n",
       "80      10026\\n(40.80305812163505, -73.95334277604826)\n",
       "81     10028\\n(40.776344978837756, -73.95296667956859)\n",
       "82     10028\\n(40.776344978837756, -73.95296667956859)\n",
       "83     10028\\n(40.776344978837756, -73.95296667956859)\n",
       "84      10033\\n(40.85621992920642, -73.94585900019268)\n",
       "85      10035\\n(40.79381703542788, -73.91931750020245)\n",
       "86        10036\\n(40.75934682719435, -73.989860554421)\n",
       "87        10036\\n(40.75934682719435, -73.989860554421)\n",
       "88        10036\\n(40.75934682719435, -73.989860554421)\n",
       "89        10036\\n(40.75934682719435, -73.989860554421)\n",
       "90      10038\\n(40.70935929189784, -74.00307186237649)\n",
       "91      10038\\n(40.70935929189784, -74.00307186237649)\n",
       "92      10038\\n(40.70935929189784, -74.00307186237649)\n",
       "93                                             10048\\n\n",
       "94      10065\\n(40.76430121303059, -73.96303993544461)\n",
       "95      10065\\n(40.76430121303059, -73.96303993544461)\n",
       "96      10065\\n(40.76430121303059, -73.96303993544461)\n",
       "97      10065\\n(40.76430121303059, -73.96303993544461)\n",
       "98      10075\\n(40.77293949176419, -73.95609016263086)\n",
       "99      10075\\n(40.77293949176419, -73.95609016263086)\n",
       "100     10075\\n(40.77293949176419, -73.95609016263086)\n",
       "101    10128\\n(40.781770000585084, -73.95062814906976)\n",
       "Name: ZIP, dtype: object"
      ]
     },
     "execution_count": 70,
     "metadata": {},
     "output_type": "execute_result"
    }
   ],
   "source": [
    "d2['ZIP'][:]"
   ]
  },
  {
   "cell_type": "code",
   "execution_count": 69,
   "metadata": {
    "collapsed": false
   },
   "outputs": [
    {
     "data": {
      "text/plain": [
       "102"
      ]
     },
     "execution_count": 69,
     "metadata": {},
     "output_type": "execute_result"
    }
   ],
   "source": []
  },
  {
   "cell_type": "code",
   "execution_count": null,
   "metadata": {
    "collapsed": true
   },
   "outputs": [],
   "source": []
  }
 ],
 "metadata": {
  "kernelspec": {
   "display_name": "Python 2",
   "language": "python",
   "name": "python2"
  },
  "language_info": {
   "codemirror_mode": {
    "name": "ipython",
    "version": 2
   },
   "file_extension": ".py",
   "mimetype": "text/x-python",
   "name": "python",
   "nbconvert_exporter": "python",
   "pygments_lexer": "ipython2",
   "version": "2.7.10"
  }
 },
 "nbformat": 4,
 "nbformat_minor": 0
}
