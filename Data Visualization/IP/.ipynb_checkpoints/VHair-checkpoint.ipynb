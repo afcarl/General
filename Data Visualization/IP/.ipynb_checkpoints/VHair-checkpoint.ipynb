{
 "cells": [
  {
   "cell_type": "code",
   "execution_count": 1,
   "metadata": {
    "collapsed": true
   },
   "outputs": [],
   "source": [
    "import numpy as np\n",
    "import scipy as sp\n",
    "import pandas as pd\n",
    "import cv2"
   ]
  },
  {
   "cell_type": "code",
   "execution_count": 2,
   "metadata": {
    "collapsed": false
   },
   "outputs": [],
   "source": [
    "img = cv2.imread('vaibhav.jpg')"
   ]
  },
  {
   "cell_type": "code",
   "execution_count": 3,
   "metadata": {
    "collapsed": false
   },
   "outputs": [
    {
     "data": {
      "text/plain": [
       "(960L, 960L, 3L)"
      ]
     },
     "execution_count": 3,
     "metadata": {},
     "output_type": "execute_result"
    }
   ],
   "source": [
    "np.shape(img)"
   ]
  },
  {
   "cell_type": "code",
   "execution_count": 4,
   "metadata": {
    "collapsed": false
   },
   "outputs": [
    {
     "data": {
      "text/plain": [
       "True"
      ]
     },
     "execution_count": 4,
     "metadata": {},
     "output_type": "execute_result"
    }
   ],
   "source": [
    "img_crop1 = img[100:350,500:960]\n",
    "cv2.imwrite('vb_crop1.png',img_crop1)"
   ]
  },
  {
   "cell_type": "code",
   "execution_count": 5,
   "metadata": {
    "collapsed": false
   },
   "outputs": [
    {
     "data": {
      "text/plain": [
       "array([251, 254, 252], dtype=uint8)"
      ]
     },
     "execution_count": 5,
     "metadata": {},
     "output_type": "execute_result"
    }
   ],
   "source": [
    "np.shape(img_crop1)\n",
    "img[130,220]"
   ]
  },
  {
   "cell_type": "code",
   "execution_count": 17,
   "metadata": {
    "collapsed": false,
    "scrolled": true
   },
   "outputs": [
    {
     "data": {
      "text/plain": [
       "array([[[  0, 255,   0],\n",
       "        [  0, 255,   0],\n",
       "        [  0, 255,   0],\n",
       "        ..., \n",
       "        [  0, 255,   0],\n",
       "        [  0, 255,   0],\n",
       "        [  0, 255,   0]],\n",
       "\n",
       "       [[  0, 255,   0],\n",
       "        [  0, 255,   0],\n",
       "        [  0, 255,   0],\n",
       "        ..., \n",
       "        [  0, 255,   0],\n",
       "        [  0, 255,   0],\n",
       "        [  0, 255,   0]],\n",
       "\n",
       "       [[  0, 255,   0],\n",
       "        [  0, 255,   0],\n",
       "        [  0, 255,   0],\n",
       "        ..., \n",
       "        [  0, 255,   0],\n",
       "        [  0, 255,   0],\n",
       "        [  0, 255,   0]],\n",
       "\n",
       "       ..., \n",
       "       [[ 57,  21, 251],\n",
       "        [ 57,  21, 251],\n",
       "        [ 57,  21, 251],\n",
       "        ..., \n",
       "        [ 31,   9,  34],\n",
       "        [ 31,   9,  34],\n",
       "        [ 31,   9,  34]],\n",
       "\n",
       "       [[ 57,  21, 251],\n",
       "        [ 57,  21, 251],\n",
       "        [ 57,  21, 251],\n",
       "        ..., \n",
       "        [ 31,   9,  34],\n",
       "        [ 31,   9,  34],\n",
       "        [ 31,   9,  34]],\n",
       "\n",
       "       [[ 57,  21, 251],\n",
       "        [ 57,  21, 251],\n",
       "        [ 57,  21, 251],\n",
       "        ..., \n",
       "        [ 31,   9,  34],\n",
       "        [ 31,   9,  34],\n",
       "        [ 31,   9,  34]]], dtype=uint8)"
      ]
     },
     "execution_count": 17,
     "metadata": {},
     "output_type": "execute_result"
    }
   ],
   "source": [
    "#ret,thresh = cv2.threshold(img,0,255,0)\n",
    "imgray = cv2.cvtColor(img,cv2.COLOR_BGR2GRAY)\n",
    "ret,thresh = cv2.threshold(imgray,127,255,0)\n",
    "image, contours, hierarchy = cv2.findContours(thresh,cv2.RETR_TREE,cv2.CHAIN_APPROX_SIMPLE)\n",
    "cv2.drawContours(img, contours, -1, (0,255,0), 3)"
   ]
  },
  {
   "cell_type": "code",
   "execution_count": 18,
   "metadata": {
    "collapsed": false,
    "scrolled": true
   },
   "outputs": [
    {
     "data": {
      "text/plain": [
       "array([[[  0, 255,   0],\n",
       "        [  0, 255,   0],\n",
       "        [  0, 255,   0],\n",
       "        ..., \n",
       "        [  0, 255,   0],\n",
       "        [  0, 255,   0],\n",
       "        [  0, 255,   0]],\n",
       "\n",
       "       [[  0, 255,   0],\n",
       "        [  0, 255,   0],\n",
       "        [  0, 255,   0],\n",
       "        ..., \n",
       "        [  0, 255,   0],\n",
       "        [  0, 255,   0],\n",
       "        [  0, 255,   0]],\n",
       "\n",
       "       [[  0, 255,   0],\n",
       "        [  0, 255,   0],\n",
       "        [  0, 255,   0],\n",
       "        ..., \n",
       "        [  0, 255,   0],\n",
       "        [  0, 255,   0],\n",
       "        [  0, 255,   0]],\n",
       "\n",
       "       ..., \n",
       "       [[ 57,  21, 251],\n",
       "        [ 57,  21, 251],\n",
       "        [ 57,  21, 251],\n",
       "        ..., \n",
       "        [ 31,   9,  34],\n",
       "        [ 31,   9,  34],\n",
       "        [ 31,   9,  34]],\n",
       "\n",
       "       [[ 57,  21, 251],\n",
       "        [ 57,  21, 251],\n",
       "        [ 57,  21, 251],\n",
       "        ..., \n",
       "        [ 31,   9,  34],\n",
       "        [ 31,   9,  34],\n",
       "        [ 31,   9,  34]],\n",
       "\n",
       "       [[ 57,  21, 251],\n",
       "        [ 57,  21, 251],\n",
       "        [ 57,  21, 251],\n",
       "        ..., \n",
       "        [ 31,   9,  34],\n",
       "        [ 31,   9,  34],\n",
       "        [ 31,   9,  34]]], dtype=uint8)"
      ]
     },
     "execution_count": 18,
     "metadata": {},
     "output_type": "execute_result"
    }
   ],
   "source": [
    "ret1,thresh1 = cv2.threshold(img_crop1,200,200,200)\n",
    "imgray_1 = cv2.cvtColor(img_crop1,cv2.COLOR_BGR2GRAY)\n",
    "ret1,thresh1 = cv2.threshold(imgray_1,200,200,200)\n",
    "image1, contours1, hierarchy1 = cv2.findContours(thresh1,cv2.RETR_TREE,cv2.CHAIN_APPROX_SIMPLE)\n",
    "cv2.drawContours(img, contours1,-1, (0,255,0), 3)"
   ]
  },
  {
   "cell_type": "code",
   "execution_count": 19,
   "metadata": {
    "collapsed": false
   },
   "outputs": [
    {
     "data": {
      "text/plain": [
       "True"
      ]
     },
     "execution_count": 19,
     "metadata": {},
     "output_type": "execute_result"
    }
   ],
   "source": [
    "cv2.imwrite('vb.png',img)\n",
    "cv2.imwrite('vb1.png',img_crop1)"
   ]
  },
  {
   "cell_type": "code",
   "execution_count": 20,
   "metadata": {
    "collapsed": true
   },
   "outputs": [],
   "source": [
    "new_img = cv2.imread('vb1.png')\n",
    "img1 = cv2.imread('vaibhav.jpg')\n",
    "img1[100:350,500:960] = new_img"
   ]
  },
  {
   "cell_type": "code",
   "execution_count": 21,
   "metadata": {
    "collapsed": false
   },
   "outputs": [
    {
     "data": {
      "text/plain": [
       "True"
      ]
     },
     "execution_count": 21,
     "metadata": {},
     "output_type": "execute_result"
    }
   ],
   "source": [
    "\n",
    "cv2.imwrite('f.png',img1)"
   ]
  },
  {
   "cell_type": "code",
   "execution_count": null,
   "metadata": {
    "collapsed": false
   },
   "outputs": [],
   "source": [
    "#detector = cv2.SimpleBlobDetector()\n",
    "params=[230,230,230]\n",
    "detector=cv2.SimpleBlobDetector_create(params)\n",
    "# Detect blobs.\n",
    "keypoints = detector.detect(img)\n",
    " \n",
    "# Draw detected blobs as red circles.\n",
    "# cv2.DRAW_MATCHES_FLAGS_DRAW_RICH_KEYPOINTS ensures the size of the circle corresponds to the size of blob\n",
    "im_with_keypoints = cv2.drawKeypoints(img, keypoints, np.array([]), (0,0,255), cv2.DRAW_MATCHES_FLAGS_DRAW_RICH_KEYPOINTS)\n",
    " \n",
    "# Show keypoints\n",
    "cv2.imwrite(\"Keypoints.png\", im_with_keypoints)"
   ]
  },
  {
   "cell_type": "code",
   "execution_count": null,
   "metadata": {
    "collapsed": false
   },
   "outputs": [],
   "source": [
    "cnt = contours[0]\n",
    "M = cv2.moments(cnt)\n",
    "print M"
   ]
  },
  {
   "cell_type": "code",
   "execution_count": null,
   "metadata": {
    "collapsed": false
   },
   "outputs": [],
   "source": [
    "np.shape(img)"
   ]
  }
 ],
 "metadata": {
  "kernelspec": {
   "display_name": "Python 2",
   "language": "python",
   "name": "python2"
  },
  "language_info": {
   "codemirror_mode": {
    "name": "ipython",
    "version": 2
   },
   "file_extension": ".py",
   "mimetype": "text/x-python",
   "name": "python",
   "nbconvert_exporter": "python",
   "pygments_lexer": "ipython2",
   "version": "2.7.10"
  }
 },
 "nbformat": 4,
 "nbformat_minor": 0
}
